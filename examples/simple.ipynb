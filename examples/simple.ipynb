{
 "cells": [
  {
   "cell_type": "code",
   "execution_count": 1,
   "metadata": {},
   "outputs": [
    {
     "name": "stderr",
     "output_type": "stream",
     "text": [
      "┌ Info: Precompiling UAI [92253a5a-f10e-11e9-391a-01e3d2e34e5c]\n",
      "└ @ Base loading.jl:1260\n"
     ]
    },
    {
     "name": "stdout",
     "output_type": "stream",
     "text": [
      "Enter floating point value for \n",
      "p(gotDrug=drug)\n",
      "stdin> 0.8\n",
      "Enter floating point value for \n",
      "p(gotDrug=noDrug)\n",
      "stdin> 0.2\n",
      "Setting table for p(gotDrug)\n",
      "2-element Named Array{Float64,1}\n",
      "gotDrug  │ \n",
      "─────────┼────\n",
      ":drug    │ 0.8\n",
      ":noDrug  │ 0.2\n",
      "Enter floating point value for \n",
      "p(health=healthy|gotDrug=drug)\n",
      "stdin> 0.99\n",
      "Enter floating point value for \n",
      "p(health=ill|gotDrug=drug)\n",
      "stdin> 0.01\n",
      "Enter floating point value for \n",
      "p(health=healthy|gotDrug=noDrug)\n",
      "stdin> 0.1\n",
      "Enter floating point value for \n",
      "p(health=ill|gotDrug=noDrug)\n",
      "stdin> 0.9\n",
      "Setting table for p(health|gotDrug)\n",
      "2×2 Named Array{Float64,2}\n",
      "health ╲ gotDrug │   :drug  :noDrug\n",
      "─────────────────┼─────────────────\n",
      ":healthy         │    0.99      0.1\n",
      ":ill             │    0.01      0.9\n"
     ]
    }
   ],
   "source": [
    "include(\"simple.jl\")"
   ]
  },
  {
   "cell_type": "code",
   "execution_count": null,
   "metadata": {},
   "outputs": [],
   "source": []
  }
 ],
 "metadata": {
  "kernelspec": {
   "display_name": "Julia 1.4.1",
   "language": "julia",
   "name": "julia-1.4"
  },
  "language_info": {
   "file_extension": ".jl",
   "mimetype": "application/julia",
   "name": "julia",
   "version": "1.4.1"
  }
 },
 "nbformat": 4,
 "nbformat_minor": 2
}
